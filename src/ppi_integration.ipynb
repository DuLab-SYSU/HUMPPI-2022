{
 "cells": [
  {
   "cell_type": "code",
   "execution_count": 1,
   "metadata": {},
   "outputs": [],
   "source": [
    "import pandas as pd\n",
    "import re\n",
    "import gzip\n",
    "\n",
    "from gene_id2symbol import id2name\n",
    "from collections import Counter"
   ]
  },
  {
   "cell_type": "markdown",
   "metadata": {},
   "source": [
    "# Human PPI data integration from five databases\n",
    "## 1. Raw data extraction\n",
    "### MatrixDB"
   ]
  },
  {
   "cell_type": "code",
   "execution_count": 2,
   "metadata": {},
   "outputs": [],
   "source": [
    "gene_A = []\n",
    "gene_B = []\n",
    "method = []\n",
    "pubmed = []\n",
    "interaction_type = []\n",
    "with gzip.open(r'../data/PPIs_from_databases/matrixdb_human.tab.gz', 'rt') as f:\n",
    "    for row in f:\n",
    "        col = row.strip().split('\\t')\n",
    "        gene_A.append(id2name(re.split('[:-]', col[0])[1]))\n",
    "        gene_B.append(id2name(re.split('[:-]', col[1])[1]))\n",
    "        method.append(col[6].replace('psi-mi:\"', '').replace('\"(\"', '(').replace('\")', ')'))\n",
    "        pubmed.append(re.search(r'(.*)(pubmed:[0-9]+)(\\D*)(.*)', col[8]).group(2))\n",
    "        interaction_type.append(col[11].replace('psi-mi:\"', '').replace('\"', ''))\n",
    "        \n",
    "matrixdb = pd.DataFrame({'gene_A': gene_A, 'gene_B': gene_B,\n",
    "                         'interaction_detection_method': method,\n",
    "                         'pubmed_id': pubmed,\n",
    "                         'interaction_type': interaction_type,\n",
    "                         'database': ['MatrixDB'] * len(gene_A)})"
   ]
  },
  {
   "cell_type": "markdown",
   "metadata": {},
   "source": [
    "### BioGRID"
   ]
  },
  {
   "cell_type": "code",
   "execution_count": 3,
   "metadata": {},
   "outputs": [],
   "source": [
    "gene_A = []\n",
    "gene_B = []\n",
    "method = []\n",
    "pubmed = []\n",
    "interaction_type = []\n",
    "with gzip.open(r'../data/PPIs_from_databases/BIOGRID-ORGANISM-Homo_sapiens-3.5.182.mitab.txt.gz', 'rt') as f:\n",
    "    for row in f:\n",
    "        if row.startswith(\"#ID\"):\n",
    "            pass\n",
    "        else:\n",
    "            col = row.split(\"\\t\")\n",
    "            if col[9] == 'taxid:9606' and col[10] == 'taxid:9606':\n",
    "            #if col[9] == col[10]:\n",
    "                gene_A.append(id2name(col[0].replace('entrez gene/locuslink:', '')))\n",
    "                gene_B.append(id2name(col[1].replace('entrez gene/locuslink:', '')))\n",
    "                method.append(col[6].replace('psi-mi:\"', '').replace('\"', ''))\n",
    "                pubmed.append(col[8])\n",
    "                interaction_type.append(col[11].replace('psi-mi:\"', '').replace('\"', ''))\n",
    "\n",
    "biogrid = pd.DataFrame({'gene_A': gene_A, 'gene_B': gene_B,\n",
    "                         'interaction_detection_method': method,\n",
    "                         'pubmed_id': pubmed,\n",
    "                         'interaction_type': interaction_type,\n",
    "                         'database': ['BioGRID'] * len(gene_A)})"
   ]
  },
  {
   "cell_type": "markdown",
   "metadata": {},
   "source": [
    "### IntAct"
   ]
  },
  {
   "cell_type": "code",
   "execution_count": 4,
   "metadata": {},
   "outputs": [],
   "source": [
    "gene_A = []\n",
    "gene_B = []\n",
    "method = []\n",
    "pubmed = []\n",
    "interaction_type = []\n",
    "with gzip.open(r'../data/PPIs_from_databases/intact_human.txt.gz', 'rt') as f:\n",
    "    for row in f:\n",
    "        col = row.strip().split('\\t')\n",
    "        if re.search(r'pubmed:unassigned[0-9]+', col[8]):  # pubmed:unassigned\n",
    "            pass\n",
    "        else:\n",
    "            gene_A.append(id2name(re.split('[:-]', col[0])[1]))\n",
    "            gene_B.append(id2name(re.split('[:-]', col[1])[1]))\n",
    "            method.append(col[6].replace('psi-mi:\"', '').replace('\"', ''))\n",
    "            pubmed.append(re.search(r'(.*)(pubmed:[0-9]+)(\\D*)(.*)', col[8]).group(2))\n",
    "            interaction_type.append(col[11].replace('psi-mi:\"', '').replace('\"', ''))\n",
    "\n",
    "intact = pd.DataFrame({'gene_A': gene_A, 'gene_B': gene_B,\n",
    "                         'interaction_detection_method': method,\n",
    "                         'pubmed_id': pubmed,\n",
    "                         'interaction_type': interaction_type,\n",
    "                         'database': ['IntAct'] * len(gene_A)})"
   ]
  },
  {
   "cell_type": "markdown",
   "metadata": {},
   "source": [
    "### MINT"
   ]
  },
  {
   "cell_type": "code",
   "execution_count": 5,
   "metadata": {},
   "outputs": [],
   "source": [
    "gene_A = []\n",
    "gene_B = []\n",
    "method = []\n",
    "pubmed = []\n",
    "interaction_type = []\n",
    "with gzip.open(r'../data/PPIs_from_databases/MINT_human.gz', 'rt') as f:\n",
    "    for row in f:\n",
    "        col = row.strip().split('\\t')\n",
    "        if col[9] == 'taxid:9606(human)|taxid:9606(Homo sapiens)' and col[10] == 'taxid:9606(human)|taxid:9606(Homo sapiens)':\n",
    "            gene_A.append(id2name(re.split('[:-]', col[0])[1]))\n",
    "            gene_B.append(id2name(re.split('[:-]', col[1])[1]))\n",
    "            method.append(col[6].replace('psi-mi:\"', '').replace('\"', ''))\n",
    "            pubmed.append(re.search(r'(.*)(pubmed:[0-9]+)(\\D*)(.*)', col[8]).group(2))\n",
    "            interaction_type.append(col[11].replace('psi-mi:\"', '').replace('\"', ''))\n",
    "\n",
    "mint = pd.DataFrame({'gene_A': gene_A, 'gene_B': gene_B,\n",
    "                         'interaction_detection_method': method,\n",
    "                         'pubmed_id': pubmed,\n",
    "                         'interaction_type': interaction_type,\n",
    "                         'database': ['MINT'] * len(gene_A)})"
   ]
  },
  {
   "cell_type": "markdown",
   "metadata": {},
   "source": [
    "### DIP"
   ]
  },
  {
   "cell_type": "code",
   "execution_count": 6,
   "metadata": {},
   "outputs": [],
   "source": [
    "gene_A = []\n",
    "gene_B = []\n",
    "method = []\n",
    "pubmed = []\n",
    "interaction_type = []\n",
    "with gzip.open(r'../data/PPIs_from_databases/Hsapi20170205.txt.gz', 'rt') as f:\n",
    "    for row in f:\n",
    "        col = row.strip().split(\"\\t\")\n",
    "        if len(col) < 15:\n",
    "            pass\n",
    "        else:\n",
    "            if col[9] == 'taxid:9606(Homo sapiens)' and col[10] == 'taxid:9606(Homo sapiens)':\n",
    "                if bool(re.search(\"uniprotkb\", col[0])) and bool(re.search(\"uniprotkb\", col[1])):\n",
    "                    gene_A.append(id2name(re.split('uniprotkb:', col[0])[1]))\n",
    "                    gene_B.append(id2name(re.split('uniprotkb:', col[1])[1]))\n",
    "                    method.append(col[6])\n",
    "                    pubmed.append(re.sub(r'\\|pubmed:DIP-[0-9]+', '', col[8]))\n",
    "                    interaction_type.append(col[11])\n",
    "\n",
    "dip = pd.DataFrame({'gene_A': gene_A, 'gene_B': gene_B,\n",
    "                         'interaction_detection_method': method,\n",
    "                         'pubmed_id': pubmed,\n",
    "                         'interaction_type': interaction_type,\n",
    "                         'database': ['DIP'] * len(gene_A)})\n",
    "\n",
    "dip2 = dip[['gene_A', 'interaction_detection_method']]\n",
    "dip2 = dip2.drop('interaction_detection_method', axis=1).\\\n",
    "    join(dip2['interaction_detection_method'].str.split('|', expand = True).\\\n",
    "         stack().reset_index(level=1, drop=True).rename('interaction_detection_method'))\n",
    "\n",
    "dip3 = dip[['gene_B', 'pubmed_id']]\n",
    "dip3 = dip3.drop('pubmed_id', axis=1).\\\n",
    "    join(dip3['pubmed_id'].str.split('|', expand = True).\\\n",
    "         stack().reset_index(level=1, drop=True).rename('pubmed_id'))\n",
    "\n",
    "dip4 = dip[['interaction_type', 'database']]\n",
    "dip4 = dip4.drop('interaction_type', axis=1).\\\n",
    "    join(dip4['interaction_type'].str.split('|', expand = True).\\\n",
    "         stack().reset_index(level=1, drop=True).rename('interaction_type'))\n",
    "\n",
    "dip5 = pd.concat([dip2, dip3, dip4], axis=1)\n",
    "dip5 = dip5[['gene_A', 'gene_B', 'interaction_detection_method', 'pubmed_id',\n",
    "             'interaction_type', 'database']]"
   ]
  },
  {
   "cell_type": "markdown",
   "metadata": {},
   "source": [
    "## 2. Intrgration"
   ]
  },
  {
   "cell_type": "code",
   "execution_count": 7,
   "metadata": {},
   "outputs": [],
   "source": [
    "\"\"\"\n",
    "Interactions without corresponding symbols were removed;\n",
    "Interactions that genes interact with themselves were not included\n",
    "\"\"\"\n",
    "integrated_ppi = pd.concat([matrixdb, biogrid, intact, mint, dip5])\n",
    "integrated_ppi2 = integrated_ppi[(integrated_ppi.gene_A != 0) & (integrated_ppi.gene_B != 0)]\n",
    "integrated_ppi2 = integrated_ppi2.drop_duplicates()\n",
    "integrated_ppi2 = integrated_ppi2[integrated_ppi2.gene_A != integrated_ppi2.gene_B]"
   ]
  },
  {
   "cell_type": "code",
   "execution_count": 8,
   "metadata": {},
   "outputs": [
    {
     "data": {
      "text/plain": [
       "(879242, 6)"
      ]
     },
     "execution_count": 8,
     "metadata": {},
     "output_type": "execute_result"
    }
   ],
   "source": [
    "integrated_ppi2.shape"
   ]
  },
  {
   "cell_type": "code",
   "execution_count": 9,
   "metadata": {},
   "outputs": [],
   "source": [
    "\"\"\"\n",
    "Records with the uninformative PSI-MI experimental interaction detection were discarded;\n",
    "Records with invalid methods, genetic interactions and PTMs were also removed\n",
    "\"\"\"\n",
    "integrated_ppi3 = integrated_ppi2[integrated_ppi2.interaction_detection_method != 'MI:0045(experimental interaction detection)']\n",
    "integrated_ppi3 = integrated_ppi3[integrated_ppi3.interaction_detection_method != 'MI:0686(unspecified method)']\n",
    "integrated_ppi3 = integrated_ppi3[integrated_ppi3.interaction_type != 'MI:0218()']\n",
    "\n",
    "integrated_ppi4 = integrated_ppi3[(integrated_ppi3.interaction_type == 'MI:0407(direct interaction)') |\n",
    "(integrated_ppi3.interaction_type == 'MI:0914(association)') |\n",
    "(integrated_ppi3.interaction_type == 'MI:0915(physical association)')]\n",
    "integrated_ppi4 = integrated_ppi4.iloc[:,[0,1,2,3,5]]\n",
    "integrated_ppi4 = integrated_ppi4.drop_duplicates()"
   ]
  },
  {
   "cell_type": "code",
   "execution_count": 10,
   "metadata": {},
   "outputs": [
    {
     "data": {
      "text/plain": [
       "(807203, 5)"
      ]
     },
     "execution_count": 10,
     "metadata": {},
     "output_type": "execute_result"
    }
   ],
   "source": [
    "integrated_ppi4.shape"
   ]
  },
  {
   "cell_type": "code",
   "execution_count": 11,
   "metadata": {},
   "outputs": [],
   "source": [
    "\"\"\"Classify the detection method into three categories: 'invalid', 'binary' and 'non-binary\"\"\"\n",
    "detection_method = pd.read_csv(r'../data/Interaction_detection_method.txt', sep=\"\\t\")\n",
    "method_category = detection_method[['Interaction Detection Method', 'Binary call', 'Parent MI']]\n",
    "method_category.columns = ['interaction_detection_method', 'binary_call', 'parent_mi']\n",
    "\n",
    "integrated_ppi5 = pd.merge(integrated_ppi4, method_category, how='left',\n",
    "                           on='interaction_detection_method')\n",
    "integrated_ppi5 = integrated_ppi5[integrated_ppi5['binary_call'] != 'invalid']"
   ]
  },
  {
   "cell_type": "code",
   "execution_count": 12,
   "metadata": {},
   "outputs": [
    {
     "data": {
      "text/plain": [
       "(807050, 7)"
      ]
     },
     "execution_count": 12,
     "metadata": {},
     "output_type": "execute_result"
    }
   ],
   "source": [
    "integrated_ppi5.shape"
   ]
  },
  {
   "cell_type": "code",
   "execution_count": 13,
   "metadata": {},
   "outputs": [],
   "source": [
    "\"\"\"Remove no protein-coding genes from the PPIs\"\"\"\n",
    "pro_coding = pd.read_csv(r'../data/protein_coding_genes.txt', sep=\"\\t\", header=None)\n",
    "pro_coding.columns = ['Gene']\n",
    "\n",
    "integrated_ppi5 = pd.merge(integrated_ppi5, pro_coding, how='inner',\n",
    "                           left_on='gene_A', right_on='Gene')\n",
    "integrated_ppi5 = pd.merge(integrated_ppi5, pro_coding, how='inner',\n",
    "                           left_on='gene_B', right_on='Gene')\n",
    "integrated_ppi5 = integrated_ppi5.iloc[:,[0,1,2,3,4,5,6]]"
   ]
  },
  {
   "cell_type": "code",
   "execution_count": 14,
   "metadata": {},
   "outputs": [
    {
     "data": {
      "text/plain": [
       "(693568, 7)"
      ]
     },
     "execution_count": 14,
     "metadata": {},
     "output_type": "execute_result"
    }
   ],
   "source": [
    "integrated_ppi5.shape"
   ]
  },
  {
   "cell_type": "code",
   "execution_count": 15,
   "metadata": {},
   "outputs": [],
   "source": [
    "\"\"\"Divide the PPIs into high-through (HT) and low-through (LT)\"\"\"\n",
    "ppi_pubmed = integrated_ppi5[['gene_A', 'gene_B', 'pubmed_id']]\n",
    "ppi_pubmed = ppi_pubmed.drop_duplicates()\n",
    "ppi_pubmed2 = pd.DataFrame({'gene_A': ppi_pubmed['gene_B'].tolist(),\n",
    "                                'gene_B': ppi_pubmed['gene_A'].tolist(),\n",
    "                                'pubmed_id': ppi_pubmed['pubmed_id'].tolist()})\n",
    "ppi_pubmed2 = pd.concat([ppi_pubmed, ppi_pubmed2], axis = 0, ignore_index=True)\n",
    "ppi_pubmed2 = ppi_pubmed2.drop_duplicates()\n",
    "\n",
    "from collections import Counter\n",
    "pubmed_num = Counter(ppi_pubmed2['pubmed_id'].tolist())\n",
    "pubmed_id = []\n",
    "number = []\n",
    "for pubmed in pubmed_num.keys():\n",
    "    pubmed_id.append(pubmed)\n",
    "    number.append(int(pubmed_num[pubmed]/2))\n",
    "\n",
    "HT_list = []\n",
    "for pubmed in pubmed_num.keys():\n",
    "    if pubmed_num[pubmed] > 200:\n",
    "        HT_list.append(pubmed)\n",
    "\n",
    "throughput = []\n",
    "for pubmed in integrated_ppi5['pubmed_id'].tolist():\n",
    "    if pubmed in HT_list:\n",
    "        throughput.append(\"HT\")\n",
    "    else:\n",
    "        throughput.append(\"LT\")\n",
    "\n",
    "integrated_ppi5.insert(5, 'throughput', throughput)\n",
    "\n",
    "integrated_ppi6 = integrated_ppi5.iloc[:,[0,1,3,4,5,6,7]]\n",
    "integrated_ppi6 = integrated_ppi6.drop_duplicates()\n",
    "\n",
    "integrated_ppi7 = pd.DataFrame({'gene_A': integrated_ppi6['gene_B'].tolist(),\n",
    "                                'gene_B': integrated_ppi6['gene_A'].tolist(),\n",
    "                                'pubmed_id': integrated_ppi6['pubmed_id'].tolist(),\n",
    "                                'database': integrated_ppi6['database'].tolist(),\n",
    "                                'throughput': integrated_ppi6['throughput'].tolist(),\n",
    "                                'binary_call': integrated_ppi6['binary_call'].tolist(),\n",
    "                                'parent_mi': integrated_ppi6['parent_mi'].tolist()})\n",
    "\n",
    "integrated_ppi7 = pd.concat([integrated_ppi6, integrated_ppi7], axis = 0, ignore_index=True)\n",
    "integrated_ppi7 = integrated_ppi7.drop_duplicates()"
   ]
  },
  {
   "cell_type": "code",
   "execution_count": 16,
   "metadata": {},
   "outputs": [
    {
     "data": {
      "text/plain": [
       "(1261508, 7)"
      ]
     },
     "execution_count": 16,
     "metadata": {},
     "output_type": "execute_result"
    }
   ],
   "source": [
    "integrated_ppi7.shape"
   ]
  },
  {
   "cell_type": "code",
   "execution_count": 17,
   "metadata": {},
   "outputs": [],
   "source": [
    "\"\"\"\n",
    "Combine the same interaction from different literature;\n",
    "Combine the same interaction from different experimental scale;\n",
    "Combine the same interaction from different database;\n",
    "Join the same interaction divided into different method category;\n",
    "Join the same interaction used different method (MI-PSI)\n",
    "\"\"\"\n",
    "def comb(df):\n",
    "    return ';'.join(df.values)\n",
    "\n",
    "def inter_comb(name):\n",
    "    ppi = integrated_ppi7[['gene_A','gene_B',name]]\n",
    "    ppi = ppi.drop_duplicates()\n",
    "    ppi2 = ppi.groupby(['gene_A','gene_B'])[name].apply(comb)\n",
    "    interaction_list = []\n",
    "    for i in range(len(ppi2.index)):\n",
    "        interaction_list.append(ppi2.index[i])\n",
    "    ppi3 = pd.DataFrame(interaction_list)\n",
    "    ppi3.columns = ppi2.index.names\n",
    "    ppi3[name] = ppi2.values\n",
    "    return ppi3\n",
    "\n",
    "integrated_ppi8 = pd.DataFrame({'gene_A':[], 'gene_B':[]})\n",
    "for name in integrated_ppi7.columns[2:8].to_list():\n",
    "    ppi = inter_comb(name)\n",
    "    integrated_ppi8 = pd.merge(integrated_ppi8, ppi, how='right',\n",
    "                               on=['gene_A', 'gene_B'])"
   ]
  },
  {
   "cell_type": "code",
   "execution_count": 18,
   "metadata": {},
   "outputs": [
    {
     "data": {
      "text/plain": [
       "(619466, 7)"
      ]
     },
     "execution_count": 18,
     "metadata": {},
     "output_type": "execute_result"
    }
   ],
   "source": [
    "integrated_ppi8.shape"
   ]
  },
  {
   "cell_type": "code",
   "execution_count": 19,
   "metadata": {},
   "outputs": [],
   "source": [
    "\"\"\"\n",
    "Identification of the relationship between child and parent PSI-MI terms, and the redundant terms were removed.\n",
    "\"\"\"\n",
    "parentMI = detection_method[['Parent MI', 'Parent3 MI']]\n",
    "parentMI = parentMI[parentMI['Parent MI'] != parentMI['Parent3 MI']]\n",
    "parentMI = parentMI.drop_duplicates()\n",
    "parent_mi = dict(zip(parentMI['Parent MI'], parentMI['Parent3 MI']))\n",
    "\n",
    "parentMI2 = detection_method[['Parent MI', 'Parent2 MI']]\n",
    "parentMI2 = parentMI2[parentMI2['Parent MI'] != parentMI2['Parent2 MI']]\n",
    "parentMI2 = parentMI2.drop_duplicates()\n",
    "parent_mi2 = dict(zip(parentMI2['Parent MI'], parentMI2['Parent2 MI']))\n",
    "\n",
    "def mi_remove(x):\n",
    "    if bool(re.search(\";\", x)):\n",
    "        mis = x.split(';')\n",
    "        mi_list = []\n",
    "        for i in mis:\n",
    "            if i in parent_mi.keys():\n",
    "                if parent_mi[i] in mis:\n",
    "                    mi_list.append(parent_mi[i])\n",
    "        mi_set = set(mi_list)\n",
    "        mis2 = [i for i in mis if i not in mi_set]\n",
    "        return ';'.join(mis2)\n",
    "    else:\n",
    "        return x\n",
    "\n",
    "def mi_remove2(x):\n",
    "    if bool(re.search(\";\", x)):\n",
    "        mis = x.split(';')\n",
    "        mi_list = []\n",
    "        for i in mis:\n",
    "            if i in parent_mi2.keys():\n",
    "                if parent_mi2[i] in mis:\n",
    "                    mi_list.append(parent_mi2[i])\n",
    "        mi_set = set(mi_list)\n",
    "        mis2 = [i for i in mis if i not in mi_set]\n",
    "        return ';'.join(mis2)\n",
    "    else:\n",
    "        return x\n",
    "    \n",
    "integrated_ppi8['parent_mi'] = integrated_ppi8['parent_mi'].apply(mi_remove)\n",
    "integrated_ppi8['parent_mi'] = integrated_ppi8['parent_mi'].apply(mi_remove2)"
   ]
  },
  {
   "cell_type": "code",
   "execution_count": 20,
   "metadata": {},
   "outputs": [
    {
     "data": {
      "text/plain": [
       "(619466, 7)"
      ]
     },
     "execution_count": 20,
     "metadata": {},
     "output_type": "execute_result"
    }
   ],
   "source": [
    "integrated_ppi8.shape"
   ]
  },
  {
   "cell_type": "code",
   "execution_count": 21,
   "metadata": {},
   "outputs": [],
   "source": [
    "\"\"\"Remove the replicated interaction pairs (retain A-B, but not B-A)\"\"\"\n",
    "interaction = []\n",
    "gene_A = []\n",
    "gene_B = []\n",
    "pubmed_id = []\n",
    "database = []\n",
    "throughput = []\n",
    "\n",
    "for i in range(integrated_ppi8.shape[0]):\n",
    "    if integrated_ppi8.iloc[i,1] + '-' + integrated_ppi8.iloc[i,0] in interaction:\n",
    "        pass\n",
    "    else:\n",
    "        if (len(integrated_ppi8.iloc[i,6].split(';')) == 1) and (integrated_ppi8.iloc[i,4] == \"HT\"):\n",
    "            pass\n",
    "        else:\n",
    "            interaction.append(integrated_ppi8.iloc[i,0] + '-' + integrated_ppi8.iloc[i,1])\n",
    "            gene_A.append(integrated_ppi8.iloc[i,0])\n",
    "            gene_B.append(integrated_ppi8.iloc[i,1])\n",
    "            pubmed_id.append(integrated_ppi8.iloc[i,2])\n",
    "            database.append(integrated_ppi8.iloc[i,3])\n",
    "            throughput.append(integrated_ppi8.iloc[i,4])\n",
    "        \n",
    "integrated_ppi9 = pd.DataFrame({'Gene_A': gene_A, \n",
    "                                'Gene_B': gene_B, \n",
    "                                'Pubmed_id': pubmed_id,\n",
    "                                'Database': database,\n",
    "                                'Throughput': throughput})"
   ]
  },
  {
   "cell_type": "code",
   "execution_count": 22,
   "metadata": {},
   "outputs": [
    {
     "data": {
      "text/plain": [
       "(78261, 5)"
      ]
     },
     "execution_count": 22,
     "metadata": {},
     "output_type": "execute_result"
    }
   ],
   "source": [
    "integrated_ppi9.shape"
   ]
  },
  {
   "cell_type": "code",
   "execution_count": 23,
   "metadata": {},
   "outputs": [],
   "source": [
    "\"\"\"Supplementary table 1\"\"\"\n",
    "integrated_ppi9.to_csv(path_or_buf='../result/HUMPPI-2022',\n",
    "                       index = False, sep = '\\t')"
   ]
  },
  {
   "cell_type": "code",
   "execution_count": 24,
   "metadata": {},
   "outputs": [],
   "source": [
    "\"\"\"\"\"\"\n",
    "integrated_ppi9[['Gene_A', 'Gene_B']].to_csv(path_or_buf='../intermediate/integrated_ppi.txt',\n",
    "                       index = False, sep = '\\t', header = None)"
   ]
  },
  {
   "cell_type": "code",
   "execution_count": null,
   "metadata": {},
   "outputs": [],
   "source": []
  }
 ],
 "metadata": {
  "kernelspec": {
   "display_name": "Python 3",
   "language": "python",
   "name": "python3"
  },
  "language_info": {
   "codemirror_mode": {
    "name": "ipython",
    "version": 3
   },
   "file_extension": ".py",
   "mimetype": "text/x-python",
   "name": "python",
   "nbconvert_exporter": "python",
   "pygments_lexer": "ipython3",
   "version": "3.8.3"
  }
 },
 "nbformat": 4,
 "nbformat_minor": 4
}
