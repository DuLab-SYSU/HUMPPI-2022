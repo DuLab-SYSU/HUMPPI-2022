{
 "cells": [
  {
   "cell_type": "code",
   "execution_count": 2,
   "metadata": {},
   "outputs": [],
   "source": [
    "import pandas as pd\n",
    "import re\n",
    "import gzip\n",
    "\n",
    "from gene_id2symbol import id2name\n",
    "from collections import Counter"
   ]
  },
  {
   "cell_type": "markdown",
   "metadata": {},
   "source": [
    "# Virus-human interaction integration from five databases"
   ]
  },
  {
   "cell_type": "markdown",
   "metadata": {},
   "source": [
    "## 1. Raw data extraction\n",
    "### BioGRID"
   ]
  },
  {
   "cell_type": "code",
   "execution_count": 3,
   "metadata": {},
   "outputs": [],
   "source": [
    "gene_A = []\n",
    "gene_B = []\n",
    "method = []\n",
    "pubmed = []\n",
    "interaction_type = []\n",
    "taxid = []\n",
    "with gzip.open(r'../data/VHI_from_databases/BioGRID_human.txt.gz', 'rt') as f:\n",
    "    for row in f:\n",
    "        if row.startswith(\"#ID\"):\n",
    "            pass\n",
    "        else:\n",
    "            col = row.split(\"\\t\")\n",
    "            if col[9] == 'taxid:9606' and col[10] == 'taxid:9606':\n",
    "                pass\n",
    "            else:\n",
    "                if col[9] == 'taxid:9606':\n",
    "                    gene_A.append(id2name(col[0].replace('entrez gene/locuslink:', '')))\n",
    "                    gene_B.append(col[1].replace('entrez gene/locuslink:', ''))\n",
    "                    taxid.append(col[10])\n",
    "                else:\n",
    "                    gene_A.append(id2name(col[1].replace('entrez gene/locuslink:', '')))\n",
    "                    gene_B.append(col[0].replace('entrez gene/locuslink:', ''))\n",
    "                    taxid.append(col[9])\n",
    "                method.append(col[6].replace('psi-mi:\"', '').replace('\"', ''))\n",
    "                pubmed.append(col[8])\n",
    "                interaction_type.append(col[11].replace('psi-mi:\"', '').replace('\"', ''))\n",
    "\n",
    "biogrid = pd.DataFrame({'gene_A': gene_A, 'gene_B': gene_B,\n",
    "                         'interaction_detection_method': method,\n",
    "                         'pubmed_id': pubmed,\n",
    "                         'interaction_type': interaction_type,\n",
    "                         'database': ['BioGRID'] * len(gene_A),\n",
    "                         'taxid': taxid})"
   ]
  },
  {
   "cell_type": "code",
   "execution_count": 4,
   "metadata": {},
   "outputs": [
    {
     "data": {
      "text/plain": [
       "(37692, 7)"
      ]
     },
     "execution_count": 4,
     "metadata": {},
     "output_type": "execute_result"
    }
   ],
   "source": [
    "biogrid.shape"
   ]
  },
  {
   "cell_type": "markdown",
   "metadata": {},
   "source": [
    "### IntAct"
   ]
  },
  {
   "cell_type": "code",
   "execution_count": 5,
   "metadata": {},
   "outputs": [],
   "source": [
    "gene_A = []\n",
    "gene_B = []\n",
    "method = []\n",
    "pubmed = []\n",
    "interaction_type = []\n",
    "taxid = []\n",
    "species = []\n",
    "with gzip.open(r'../data/VHI_from_databases/intact_human-others.txt.gz', 'rt') as f:\n",
    "    for row in f:\n",
    "        col = row.strip().split('\\t')\n",
    "        if col[4] == '-' or col[5] == '-':\n",
    "            pass\n",
    "        elif re.search(r'pubmed:unassigned[0-9]+', col[3]):  # pubmed:unassigned\n",
    "            if re.search(r'taxid:9606', col[4]):\n",
    "                gene_A.append(id2name(re.split('[:-]', col[0])[1]))\n",
    "                gene_B.append(re.split('[:-]', col[0])[1])\n",
    "                taxid.append(re.split(\"\\(\", col[5])[0])\n",
    "            else:\n",
    "                gene_A.append(id2name(re.split('[:-]', col[1])[1]))\n",
    "                gene_B.append(re.split('[:-]', col[0])[1])\n",
    "                taxid.append(re.split(\"\\(\", col[4])[0])\n",
    "            method.append(col[2].replace('psi-mi:\"', '').replace('\"', ''))\n",
    "            pubmed.append(re.split(\"\\|\", col[3])[1])\n",
    "            interaction_type.append(col[6].replace('psi-mi:\"', '').replace('\"', ''))\n",
    "        else:\n",
    "            if re.search(r'taxid:9606', col[4]):\n",
    "                gene_A.append(id2name(re.split('[:-]', col[0])[1]))\n",
    "                gene_B.append(re.split('[:-]', col[0])[1])\n",
    "                taxid.append(re.split(\"\\(\", col[5])[0])\n",
    "            else:\n",
    "                gene_A.append(id2name(re.split('[:-]', col[1])[1]))\n",
    "                gene_B.append(re.split('[:-]', col[0])[1])\n",
    "                taxid.append(re.split(\"\\(\", col[4])[0])\n",
    "            method.append(col[2].replace('psi-mi:\"', '').replace('\"', ''))\n",
    "            pubmed.append(re.search(r'(.*)(pubmed:[0-9]+)(\\D*)(.*)', col[3]).group(2))\n",
    "            interaction_type.append(col[6].replace('psi-mi:\"', '').replace('\"', ''))\n",
    "\n",
    "with gzip.open(r'../data/VHI_from_databases/intact_virus.txt.gz', 'rt') as f:\n",
    "    for row in f:\n",
    "        if row.startswith(\"#ID\"):\n",
    "            pass\n",
    "        else:\n",
    "            col = row.strip().split('\\t')\n",
    "            if col[9] == '-' or col[10] == '-':\n",
    "                pass\n",
    "            elif re.search(r'pubmed:unassigned[0-9]+', col[8]):  # pubmed:unassigned\n",
    "                if re.search(r'taxid:9606', col[9]):\n",
    "                    gene_A.append(id2name(re.split('[:-]', col[0])[1]))\n",
    "                    gene_B.append(re.split('[:-]', col[0])[1])\n",
    "                    taxid.append(re.split(\"\\(\", col[10])[0])\n",
    "                else:\n",
    "                    gene_A.append(id2name(re.split('[:-]', col[1])[1]))\n",
    "                    gene_B.append(re.split('[:-]', col[0])[1])\n",
    "                    taxid.append(re.split(\"\\(\", col[9])[0])\n",
    "                method.append(col[6].replace('psi-mi:\"', '').replace('\"', ''))\n",
    "                pubmed.append('pubmed:unassigned')\n",
    "                interaction_type.append(col[11].replace('psi-mi:\"', '').replace('\"', ''))\n",
    "            else:\n",
    "                if re.search(r'taxid:9606', col[9]):\n",
    "                    gene_A.append(id2name(re.split('[:-]', col[0])[1]))\n",
    "                    gene_B.append(re.split('[:-]', col[0])[1])\n",
    "                    taxid.append(re.split(\"\\(\", col[10])[0])\n",
    "                else:\n",
    "                    gene_A.append(id2name(re.split('[:-]', col[1])[1]))\n",
    "                    gene_B.append(re.split('[:-]', col[0])[1])\n",
    "                    taxid.append(re.split(\"\\(\", col[9])[0])\n",
    "                method.append(col[6].replace('psi-mi:\"', '').replace('\"', ''))\n",
    "                pubmed.append(re.search(r'(.*)(pubmed:[0-9]+)(\\D*)(.*)', col[8]).group(2))\n",
    "                interaction_type.append(col[11].replace('psi-mi:\"', '').replace('\"', ''))\n",
    "\n",
    "intact = pd.DataFrame({'gene_A': gene_A, 'gene_B': gene_B,\n",
    "                         'interaction_detection_method': method,\n",
    "                         'pubmed_id': pubmed,\n",
    "                         'interaction_type': interaction_type,\n",
    "                         'database': ['IntAct'] * len(gene_A),\n",
    "                         'taxid': taxid})"
   ]
  },
  {
   "cell_type": "code",
   "execution_count": 6,
   "metadata": {},
   "outputs": [
    {
     "data": {
      "text/plain": [
       "(103646, 7)"
      ]
     },
     "execution_count": 6,
     "metadata": {},
     "output_type": "execute_result"
    }
   ],
   "source": [
    "intact.shape"
   ]
  },
  {
   "cell_type": "markdown",
   "metadata": {},
   "source": [
    "### MINT"
   ]
  },
  {
   "cell_type": "code",
   "execution_count": 7,
   "metadata": {},
   "outputs": [],
   "source": [
    "gene_A = []\n",
    "gene_B = []\n",
    "method = []\n",
    "pubmed = []\n",
    "interaction_type = []\n",
    "taxid = []\n",
    "with gzip.open(r'../data/PPIs_from_databases/MINT_human.gz', 'rt') as f:\n",
    "    for row in f:\n",
    "        col = row.strip().split('\\t')\n",
    "        if re.search(r'taxid:9606', col[9]) and re.search(r'taxid:9606', col[10]):\n",
    "            pass\n",
    "        else:\n",
    "            if col[9] == 'taxid:9606(human)|taxid:9606(Homo sapiens)':\n",
    "                gene_A.append(id2name(re.split('[:-]', col[0])[1]))\n",
    "                gene_B.append(re.split('[:-]', col[1])[1])\n",
    "                taxid.append(re.split(\"\\(\", col[10])[0])\n",
    "            else:\n",
    "                gene_A.append(id2name(re.split('[:-]', col[1])[1]))\n",
    "                gene_B.append(re.split('[:-]', col[0])[1])\n",
    "                taxid.append(re.split(\"\\(\", col[9])[0])\n",
    "            method.append(col[6].replace('psi-mi:\"', '').replace('\"', ''))\n",
    "            pubmed.append(re.search(r'(.*)(pubmed:[0-9]+)(\\D*)(.*)', col[8]).group(2))\n",
    "            interaction_type.append(col[11].replace('psi-mi:\"', '').replace('\"', ''))\n",
    "\n",
    "mint = pd.DataFrame({'gene_A': gene_A, 'gene_B': gene_B,\n",
    "                         'interaction_detection_method': method,\n",
    "                         'pubmed_id': pubmed,\n",
    "                         'interaction_type': interaction_type,\n",
    "                         'database': ['MINT'] * len(gene_A),\n",
    "                         'taxid': taxid})"
   ]
  },
  {
   "cell_type": "code",
   "execution_count": 8,
   "metadata": {},
   "outputs": [
    {
     "data": {
      "text/plain": [
       "(18225, 7)"
      ]
     },
     "execution_count": 8,
     "metadata": {},
     "output_type": "execute_result"
    }
   ],
   "source": [
    "mint.shape"
   ]
  },
  {
   "cell_type": "markdown",
   "metadata": {},
   "source": [
    "### DIP"
   ]
  },
  {
   "cell_type": "code",
   "execution_count": 9,
   "metadata": {},
   "outputs": [],
   "source": [
    "gene_A = []\n",
    "gene_B = []\n",
    "method = []\n",
    "pubmed = []\n",
    "interaction_type = []\n",
    "taxid = []\n",
    "with gzip.open(r'../data/PPIs_from_databases/Hsapi20170205.txt.gz', 'rt') as f:\n",
    "    for row in f:\n",
    "        col = row.strip().split(\"\\t\")\n",
    "        if len(col) < 15:\n",
    "            pass\n",
    "        else:\n",
    "            if col[9] == 'taxid:9606(Homo sapiens)' and col[10] == 'taxid:9606(Homo sapiens)':\n",
    "                pass\n",
    "            elif bool(re.search(\"uniprotkb\", col[0])) and bool(re.search(\"uniprotkb\", col[1])):\n",
    "                if col[9] == 'taxid:9606(Homo sapiens)':\n",
    "                    gene_A.append(id2name(re.split('uniprotkb:', col[0])[1]))\n",
    "                    gene_B.append(re.split('uniprotkb:', col[1])[1])\n",
    "                    taxid.append(re.split(\"\\(\", col[10])[0])\n",
    "                else:\n",
    "                    gene_A.append(id2name(re.split('uniprotkb:', col[1])[1]))\n",
    "                    gene_B.append(re.split('uniprotkb:', col[0])[1])\n",
    "                    taxid.append(re.split(\"\\(\", col[9])[0])\n",
    "                method.append(col[6].replace('psi-mi:\"', '').replace('\"', ''))\n",
    "                pubmed.append(re.sub(r'\\|pubmed:DIP-[0-9]+', '', col[8]))\n",
    "                interaction_type.append(col[11])\n",
    "\n",
    "\n",
    "dip = pd.DataFrame({'gene_A': gene_A, 'gene_B': gene_B,\n",
    "                      'interaction_detection_method': method,\n",
    "                      'pubmed_id': pubmed,\n",
    "                      'interaction_type': interaction_type,\n",
    "                      'database': ['DIP'] * len(gene_A),\n",
    "                      'taxid': taxid})\n",
    "\n",
    "dip2 = dip[['gene_A', 'interaction_detection_method']]\n",
    "dip2 = dip2.drop('interaction_detection_method', axis=1).\\\n",
    "    join(dip2['interaction_detection_method'].str.split('|', expand = True).\\\n",
    "         stack().reset_index(level=1, drop=True).rename('interaction_detection_method'))\n",
    "\n",
    "dip3 = dip[['gene_B', 'pubmed_id']]\n",
    "dip3 = dip3.drop('pubmed_id', axis=1).\\\n",
    "    join(dip3['pubmed_id'].str.split('|', expand = True).\\\n",
    "         stack().reset_index(level=1, drop=True).rename('pubmed_id'))\n",
    "\n",
    "dip4 = dip[['interaction_type', 'database', 'taxid']]\n",
    "dip4 = dip4.drop('interaction_type', axis=1).\\\n",
    "    join(dip4['interaction_type'].str.split('|', expand = True).\\\n",
    "         stack().reset_index(level=1, drop=True).rename('interaction_type'))\n",
    "\n",
    "dip5 = pd.concat([dip2, dip3, dip4], axis=1)\n",
    "dip5 = dip5[['gene_A', 'gene_B', 'interaction_detection_method', 'pubmed_id',\n",
    "             'interaction_type', 'database', 'taxid']]"
   ]
  },
  {
   "cell_type": "code",
   "execution_count": 10,
   "metadata": {},
   "outputs": [
    {
     "data": {
      "text/plain": [
       "(1061, 7)"
      ]
     },
     "execution_count": 10,
     "metadata": {},
     "output_type": "execute_result"
    }
   ],
   "source": [
    "dip5.shape"
   ]
  },
  {
   "cell_type": "markdown",
   "metadata": {},
   "source": [
    "### VirHostNet"
   ]
  },
  {
   "cell_type": "code",
   "execution_count": 11,
   "metadata": {},
   "outputs": [],
   "source": [
    "gene_A = []\n",
    "gene_B = []\n",
    "method = []\n",
    "pubmed = []\n",
    "interaction_type = []\n",
    "taxid = []\n",
    "with gzip.open(r'../data/VHI_from_databases/virhostnet.txt.gz', 'rt') as f:\n",
    "    for row in f:\n",
    "        col = row.strip().split(\"\\t\")\n",
    "        if col[9] == col[10]:\n",
    "            pass\n",
    "        elif col[9] == 'taxid:9606' or col[10] == 'taxid:9606':\n",
    "            if col[9] == 'taxid:9606':\n",
    "                gene_A.append(id2name(re.split('[:-]', col[0])[1]))\n",
    "                gene_B.append(re.split('[:-]', col[1])[1])\n",
    "                taxid.append(col[10])\n",
    "            else:\n",
    "                gene_A.append(id2name(re.split('[:-]', col[1])[1]))\n",
    "                gene_B.append(re.split('[:-]', col[0])[1])\n",
    "                taxid.append(col[9])\n",
    "            method.append(col[6].replace('psi-mi:\"', '').replace('\"', ''))\n",
    "            pubmed.append(col[8])\n",
    "            interaction_type.append(col[11].replace('psi-mi:\"', '').replace('\"', ''))\n",
    "\n",
    "virhostnet = pd.DataFrame({'gene_A': gene_A, 'gene_B': gene_B,\n",
    "                         'interaction_detection_method': method,\n",
    "                         'pubmed_id': pubmed,\n",
    "                         'interaction_type': interaction_type,\n",
    "                         'database': ['VirHostNet'] * len(gene_A),\n",
    "                         'taxid': taxid})"
   ]
  },
  {
   "cell_type": "code",
   "execution_count": 12,
   "metadata": {},
   "outputs": [
    {
     "data": {
      "text/plain": [
       "(33300, 7)"
      ]
     },
     "execution_count": 12,
     "metadata": {},
     "output_type": "execute_result"
    }
   ],
   "source": [
    "virhostnet.shape"
   ]
  },
  {
   "cell_type": "markdown",
   "metadata": {},
   "source": [
    "### HPIDB"
   ]
  },
  {
   "cell_type": "code",
   "execution_count": 13,
   "metadata": {},
   "outputs": [],
   "source": [
    "gene_A = []\n",
    "gene_B = []\n",
    "method = []\n",
    "pubmed = []\n",
    "interaction_type = []\n",
    "taxid = []\n",
    "with gzip.open(r'../data/VHI_from_databases/hpidb2.mitab.txt.gz', 'rt') as f:\n",
    "    for row in f:\n",
    "        if row.startswith(\"# protein_xref_1\"):\n",
    "            pass\n",
    "        else:\n",
    "            col = row.strip().split('\\t')\n",
    "            if re.search(r'pubmed:unassigned[0-9]+', col[3]):  # pubmed:unassigned\n",
    "                if re.search(r'taxid:9606', col[4]):\n",
    "                    gene_A.append(id2name(re.split('-', re.split(':', col[0])[-1])[0]))\n",
    "                    gene_B.append(re.split('-', re.split(':', col[1])[-1])[0])\n",
    "                    taxid.append(re.split(\"\\(\", col[5])[0])\n",
    "                else:\n",
    "                    gene_A.append(id2name(re.split('-', re.split(':', col[1])[-1])[0]))\n",
    "                    gene_B.append(re.split('-', re.split(':', col[0])[-1])[0])\n",
    "                    taxid.append(re.split(\"\\(\", col[4])[0])\n",
    "                method.append(col[2].replace('psi-mi:', ''))\n",
    "                pubmed.append(re.split(\"\\|\", col[3])[1])\n",
    "                interaction_type.append(col[6].replace('psi-mi:', ''))\n",
    "            else:\n",
    "                if re.search(r'taxid:9606', col[4]):\n",
    "                    gene_A.append(id2name(re.split('-', re.split(':', col[0])[-1])[0]))\n",
    "                    gene_B.append(re.split('-', re.split(':', col[1])[-1])[0])\n",
    "                    taxid.append(re.split(\"\\(\", col[5])[0])\n",
    "                else:\n",
    "                    gene_A.append(id2name(re.split('-', re.split(':', col[1])[-1])[0]))\n",
    "                    gene_B.append(re.split('-', re.split(':', col[0])[-1])[0])\n",
    "                    taxid.append(re.split(\"\\(\", col[4])[0])\n",
    "                method.append(col[2].replace('psi-mi:', ''))\n",
    "                pubmed.append(re.search(r'(.*)(pubmed:[0-9]+)(\\D*)(.*)', col[3]).group(2))\n",
    "                interaction_type.append(col[6].replace('psi-mi:', ''))\n",
    "\n",
    "\n",
    "hpidb = pd.DataFrame({'gene_A': gene_A, 'gene_B': gene_B,\n",
    "                         'interaction_detection_method': method,\n",
    "                         'pubmed_id': pubmed,\n",
    "                         'interaction_type': interaction_type,\n",
    "                         'database': ['HPIDB'] * len(gene_A),\n",
    "                         'taxid': taxid})"
   ]
  },
  {
   "cell_type": "code",
   "execution_count": 14,
   "metadata": {},
   "outputs": [
    {
     "data": {
      "text/plain": [
       "(69787, 7)"
      ]
     },
     "execution_count": 14,
     "metadata": {},
     "output_type": "execute_result"
    }
   ],
   "source": [
    "hpidb.shape"
   ]
  },
  {
   "cell_type": "markdown",
   "metadata": {},
   "source": [
    "## 2. Intrgration"
   ]
  },
  {
   "cell_type": "code",
   "execution_count": 15,
   "metadata": {},
   "outputs": [],
   "source": [
    "vhi = pd.concat([biogrid, intact, mint, dip5, virhostnet, hpidb])\n",
    "vhi2 = vhi[vhi.gene_A != 0]\n",
    "vhi2 = vhi2.drop_duplicates()"
   ]
  },
  {
   "cell_type": "code",
   "execution_count": 16,
   "metadata": {},
   "outputs": [
    {
     "data": {
      "text/plain": [
       "(203919, 7)"
      ]
     },
     "execution_count": 16,
     "metadata": {},
     "output_type": "execute_result"
    }
   ],
   "source": [
    "vhi2.shape"
   ]
  },
  {
   "cell_type": "code",
   "execution_count": 17,
   "metadata": {},
   "outputs": [],
   "source": [
    "\"\"\"Remove invalid methods, genetic interactions and PTMs\"\"\"\n",
    "vhi3 = vhi2[(vhi2.interaction_type == 'MI:0218(physical interaction)') |\n",
    "            (vhi2.interaction_type == 'MI:0407(direct interaction)') |\n",
    "            (vhi2.interaction_type == 'MI:0914(association)') |\n",
    "            (vhi2.interaction_type == 'MI:0915(physical association)')]\n",
    "\n",
    "vhi3 = vhi3.drop(['interaction_type'], axis=1)\n",
    "vhi3 = vhi3.drop_duplicates()"
   ]
  },
  {
   "cell_type": "code",
   "execution_count": 18,
   "metadata": {},
   "outputs": [
    {
     "data": {
      "text/plain": [
       "(197256, 6)"
      ]
     },
     "execution_count": 18,
     "metadata": {},
     "output_type": "execute_result"
    }
   ],
   "source": [
    "vhi3.shape"
   ]
  },
  {
   "cell_type": "code",
   "execution_count": 19,
   "metadata": {},
   "outputs": [],
   "source": [
    "\"\"\"Virus description\"\"\"\n",
    "virus_description = pd.read_csv(r'../data/virus_description.txt',\n",
    "                    sep='\\t')\n",
    "virus_taxid = ['taxid:' + i for i in virus_description['Taxid'].apply(str).tolist()]\n",
    "vhi4 = vhi3[vhi3['taxid'].isin(virus_taxid)]"
   ]
  },
  {
   "cell_type": "code",
   "execution_count": 20,
   "metadata": {},
   "outputs": [
    {
     "data": {
      "text/plain": [
       "(104359, 6)"
      ]
     },
     "execution_count": 20,
     "metadata": {},
     "output_type": "execute_result"
    }
   ],
   "source": [
    "vhi4.shape"
   ]
  },
  {
   "cell_type": "code",
   "execution_count": 21,
   "metadata": {},
   "outputs": [],
   "source": [
    "\"\"\"Merge evidence have an ancestor-descendent relationship\"\"\"\n",
    "method_category = pd.read_csv(r'../data/Interaction_detection_method.txt',\n",
    "                              sep=\"\\t\")\n",
    "method_category = method_category[['Interaction Detection Method', 'Binary call', 'Parent MI']]\n",
    "method_category.columns = ['interaction_detection_method', 'binary_call', 'parent_mi']\n",
    "\n",
    "vhi5 = pd.merge(vhi4, method_category, how='inner',\n",
    "                on='interaction_detection_method')\n",
    "vhi5 = vhi5[vhi5['binary_call'] != 'invalid']\n",
    "vhi5 = vhi5.drop(['interaction_detection_method','binary_call'], axis=1)\n",
    "vhi5 = vhi5.drop_duplicates()"
   ]
  },
  {
   "cell_type": "code",
   "execution_count": 22,
   "metadata": {},
   "outputs": [
    {
     "data": {
      "text/plain": [
       "(95632, 6)"
      ]
     },
     "execution_count": 22,
     "metadata": {},
     "output_type": "execute_result"
    }
   ],
   "source": [
    "vhi5.shape"
   ]
  },
  {
   "cell_type": "code",
   "execution_count": 23,
   "metadata": {},
   "outputs": [],
   "source": [
    "\"\"\"Combine the same interaction from different literature;\n",
    "Combine the same interaction from different experimental scale;\n",
    "Combine the same interaction from different database;\n",
    "Join the same interaction divided into different method category;\n",
    "Join the same interaction used different method (MI-PSI)\"\"\"\n",
    "\n",
    "def comb(df):\n",
    "    return ';'.join('%s' %i for i in df.values)\n",
    "\n",
    "def inter_comb(name):\n",
    "    ppi = vhi5[['gene_A','gene_B', 'taxid', name]]\n",
    "    ppi = ppi.drop_duplicates()\n",
    "    ppi2 = ppi.groupby(['gene_A','gene_B', 'taxid'])[name].apply(comb)\n",
    "    interaction_list = []\n",
    "    for i in range(len(ppi2.index)):\n",
    "        interaction_list.append(ppi2.index[i])\n",
    "    ppi3 = pd.DataFrame(interaction_list)\n",
    "    ppi3.columns = ppi2.index.names\n",
    "    ppi3[name] = ppi2.values\n",
    "    return ppi3\n",
    "\n",
    "vhi6 = pd.DataFrame({'gene_A':[], 'gene_B':[], 'taxid':[]})\n",
    "for name in ['pubmed_id', 'database', 'parent_mi']:\n",
    "    ppi = inter_comb(name)\n",
    "    vhi6 = pd.merge(vhi6, ppi, how='right',\n",
    "                    on=['gene_A', 'gene_B', 'taxid'])\n",
    "\n",
    "vhi6 = vhi6[vhi6['gene_B']!='EBI']\n",
    "vhi6 = vhi6[vhi6['pubmed_id']!='pubmed:unassigned']\n",
    "\n",
    "virus_description['Taxid'] = virus_taxid\n",
    "vhi7 = pd.merge(vhi6, virus_description, how='left',\n",
    "                left_on='taxid', right_on='Taxid')"
   ]
  },
  {
   "cell_type": "code",
   "execution_count": 24,
   "metadata": {},
   "outputs": [
    {
     "data": {
      "text/plain": [
       "(42166, 12)"
      ]
     },
     "execution_count": 24,
     "metadata": {},
     "output_type": "execute_result"
    }
   ],
   "source": [
    "vhi7.shape"
   ]
  },
  {
   "cell_type": "code",
   "execution_count": 25,
   "metadata": {},
   "outputs": [],
   "source": [
    "\"\"\"ID mapping to UniProtKB id\"\"\"\n",
    "ID2uniprot = pd.read_csv(r'../data/ID2uniprot.txt',\n",
    "                         sep='\\t', header=None)\n",
    "ID2uniprot.columns = ['gene_B', 'uniprot']\n",
    "\n",
    "vhi8 = pd.merge(vhi7, ID2uniprot, how='inner', on='gene_B')\n",
    "vhi8 = vhi8.drop(['gene_B'], axis=1)\n",
    "vhi8 = vhi8.drop_duplicates()\n",
    "\n",
    "gene_B = vhi8.uniprot\n",
    "vhi8 = vhi8.drop(['uniprot'], axis=1)\n",
    "vhi8.insert(1, 'gene_B', gene_B)\n",
    "vhi8 = vhi8.drop('taxid', axis=1)\n",
    "\n",
    "vtgs = vhi8[['gene_A', 'Parent Viral Name', 'Baltimore', 'Family']]\n",
    "vtgs = vtgs.drop_duplicates()\n",
    "vtgs.columns = ['Gene', 'Virus', 'Baltimore', 'Family']"
   ]
  },
  {
   "cell_type": "code",
   "execution_count": 26,
   "metadata": {},
   "outputs": [
    {
     "data": {
      "text/html": [
       "<div>\n",
       "<style scoped>\n",
       "    .dataframe tbody tr th:only-of-type {\n",
       "        vertical-align: middle;\n",
       "    }\n",
       "\n",
       "    .dataframe tbody tr th {\n",
       "        vertical-align: top;\n",
       "    }\n",
       "\n",
       "    .dataframe thead th {\n",
       "        text-align: right;\n",
       "    }\n",
       "</style>\n",
       "<table border=\"1\" class=\"dataframe\">\n",
       "  <thead>\n",
       "    <tr style=\"text-align: right;\">\n",
       "      <th></th>\n",
       "      <th>Gene</th>\n",
       "      <th>Virus</th>\n",
       "      <th>Baltimore</th>\n",
       "      <th>Family</th>\n",
       "    </tr>\n",
       "  </thead>\n",
       "  <tbody>\n",
       "    <tr>\n",
       "      <th>0</th>\n",
       "      <td>A2M</td>\n",
       "      <td>Human cytomegalovirus</td>\n",
       "      <td>dsDNA</td>\n",
       "      <td>Herpesviridae</td>\n",
       "    </tr>\n",
       "    <tr>\n",
       "      <th>1</th>\n",
       "      <td>A2ML1</td>\n",
       "      <td>Human cytomegalovirus</td>\n",
       "      <td>dsDNA</td>\n",
       "      <td>Herpesviridae</td>\n",
       "    </tr>\n",
       "    <tr>\n",
       "      <th>2</th>\n",
       "      <td>ACAA1</td>\n",
       "      <td>Human cytomegalovirus</td>\n",
       "      <td>dsDNA</td>\n",
       "      <td>Herpesviridae</td>\n",
       "    </tr>\n",
       "    <tr>\n",
       "      <th>3</th>\n",
       "      <td>ACOX1</td>\n",
       "      <td>Human cytomegalovirus</td>\n",
       "      <td>dsDNA</td>\n",
       "      <td>Herpesviridae</td>\n",
       "    </tr>\n",
       "    <tr>\n",
       "      <th>4</th>\n",
       "      <td>ACP7</td>\n",
       "      <td>Human cytomegalovirus</td>\n",
       "      <td>dsDNA</td>\n",
       "      <td>Herpesviridae</td>\n",
       "    </tr>\n",
       "  </tbody>\n",
       "</table>\n",
       "</div>"
      ],
      "text/plain": [
       "    Gene                  Virus Baltimore         Family\n",
       "0    A2M  Human cytomegalovirus     dsDNA  Herpesviridae\n",
       "1  A2ML1  Human cytomegalovirus     dsDNA  Herpesviridae\n",
       "2  ACAA1  Human cytomegalovirus     dsDNA  Herpesviridae\n",
       "3  ACOX1  Human cytomegalovirus     dsDNA  Herpesviridae\n",
       "4   ACP7  Human cytomegalovirus     dsDNA  Herpesviridae"
      ]
     },
     "execution_count": 26,
     "metadata": {},
     "output_type": "execute_result"
    }
   ],
   "source": [
    "vtgs.head()"
   ]
  },
  {
   "cell_type": "code",
   "execution_count": 27,
   "metadata": {},
   "outputs": [
    {
     "data": {
      "text/plain": [
       "(21455, 4)"
      ]
     },
     "execution_count": 27,
     "metadata": {},
     "output_type": "execute_result"
    }
   ],
   "source": [
    "vtgs.shape"
   ]
  },
  {
   "cell_type": "code",
   "execution_count": 28,
   "metadata": {},
   "outputs": [],
   "source": [
    "\"\"\"Targets by viruses, except coronavirus\"\"\"\n",
    "vtgs = vtgs[(vtgs.Virus != \"SARS-CoV-1\")]\n",
    "vtgs = vtgs[(vtgs.Virus != \"HCoV-229E\")]\n",
    "vtgs = vtgs[(vtgs.Virus != \"HCoV-NL63\")]\n",
    "vtgs = vtgs[(vtgs.Virus != \"HCoV-OC43\")]"
   ]
  },
  {
   "cell_type": "code",
   "execution_count": 29,
   "metadata": {},
   "outputs": [
    {
     "data": {
      "text/plain": [
       "(21366, 4)"
      ]
     },
     "execution_count": 29,
     "metadata": {},
     "output_type": "execute_result"
    }
   ],
   "source": [
    "vtgs.shape"
   ]
  },
  {
   "cell_type": "markdown",
   "metadata": {},
   "source": [
    "## 3. Coronavirus-human PPI from literatures"
   ]
  },
  {
   "cell_type": "code",
   "execution_count": 30,
   "metadata": {},
   "outputs": [],
   "source": [
    "bait = []\n",
    "prey = []\n",
    "virus = []\n",
    "pubmed_id = []\n",
    "\n",
    "# from Gordon et al. Science 2020\n",
    "for cov in ['MERS-CoV', 'SARS-CoV-1', \"SARS-CoV-2\"]:\n",
    "    with open(\"../data/VHI_from_databases/From_literatures/Science2020/\" + cov + \"-human.txt\") as f:\n",
    "        for row in f:\n",
    "            if row.startswith(\"Bait\"):\n",
    "                pass\n",
    "            else:\n",
    "                col = row.strip().split('\\t')\n",
    "                bait.append(col[0].upper())\n",
    "                prey.append(col[2])\n",
    "                virus.append(cov)\n",
    "                pubmed_id.append(\"pubmed:33060197\")\n",
    "                \n",
    "# from Stukalov et al., Nature 2021\n",
    "for cov in ['HCoV-229E', 'HCoV-NL63', 'SARS-CoV-1', 'SARS-CoV-2']:\n",
    "    with open(\"../data/VHI_from_databases/From_literatures/Nature2021/\" + cov + \"-human.txt\") as f:\n",
    "        for row in f:\n",
    "            if row.startswith(\"Bait\"):\n",
    "                pass\n",
    "            else:\n",
    "                col = row.strip().split('\\t')\n",
    "                bait.append(col[0].upper())\n",
    "                prey.append(col[1])\n",
    "                virus.append(cov)\n",
    "                pubmed_id.append(\"pubmed:33845483\")\n",
    "                \n",
    "# from Li et al., Med 2021\n",
    "with open(r'../data/VHI_from_databases/From_literatures/Med2021/SARS-CoV-2-human.txt') as f:\n",
    "    for row in f:\n",
    "        if row.startswith(\"Bait\"):\n",
    "            pass\n",
    "        else:\n",
    "            col = row.strip().split('\\t')\n",
    "            bait.append(col[0].upper())\n",
    "            prey.append(col[1])\n",
    "            virus.append(cov)\n",
    "            pubmed_id.append(\"pubmed:32838362\")"
   ]
  },
  {
   "cell_type": "code",
   "execution_count": 31,
   "metadata": {},
   "outputs": [],
   "source": [
    "\"\"\"Data integration\"\"\"\n",
    "cov_h = pd.DataFrame({'Bait': bait, 'PreyGene': prey, 'Virus': virus, 'Pubmed_id': pubmed_id})\n",
    "\n",
    "def comb(df):\n",
    "    return ';'.join(df.values)\n",
    "\n",
    "cov_h2 = cov_h.groupby(['Bait', 'PreyGene', 'Virus'])['Pubmed_id'].apply(comb)\n",
    "cov_ppis = []\n",
    "for i in range(len(cov_h2.index)):\n",
    "    cov_ppis.append(cov_h2.index[i])\n",
    "cov_h3 = pd.DataFrame(cov_ppis)\n",
    "cov_h3.columns = cov_h2.index.names\n",
    "cov_h3['Pubmed_id'] = cov_h2.values\n",
    "\n",
    "cov_h3.to_csv(path_or_buf='../intermediate/CoVs-human_PPI.txt', index = False, sep = '\\t')"
   ]
  },
  {
   "cell_type": "code",
   "execution_count": 32,
   "metadata": {},
   "outputs": [
    {
     "data": {
      "text/html": [
       "<div>\n",
       "<style scoped>\n",
       "    .dataframe tbody tr th:only-of-type {\n",
       "        vertical-align: middle;\n",
       "    }\n",
       "\n",
       "    .dataframe tbody tr th {\n",
       "        vertical-align: top;\n",
       "    }\n",
       "\n",
       "    .dataframe thead th {\n",
       "        text-align: right;\n",
       "    }\n",
       "</style>\n",
       "<table border=\"1\" class=\"dataframe\">\n",
       "  <thead>\n",
       "    <tr style=\"text-align: right;\">\n",
       "      <th></th>\n",
       "      <th>Bait</th>\n",
       "      <th>PreyGene</th>\n",
       "      <th>Virus</th>\n",
       "      <th>Pubmed_id</th>\n",
       "    </tr>\n",
       "  </thead>\n",
       "  <tbody>\n",
       "    <tr>\n",
       "      <th>0</th>\n",
       "      <td>E</td>\n",
       "      <td>SPTLC2</td>\n",
       "      <td>MERS-CoV</td>\n",
       "      <td>pubmed:33060197</td>\n",
       "    </tr>\n",
       "    <tr>\n",
       "      <th>1</th>\n",
       "      <td>E</td>\n",
       "      <td>B4GAT1</td>\n",
       "      <td>MERS-CoV</td>\n",
       "      <td>pubmed:33060197</td>\n",
       "    </tr>\n",
       "    <tr>\n",
       "      <th>2</th>\n",
       "      <td>E</td>\n",
       "      <td>ATP6AP2</td>\n",
       "      <td>MERS-CoV</td>\n",
       "      <td>pubmed:33060197</td>\n",
       "    </tr>\n",
       "    <tr>\n",
       "      <th>3</th>\n",
       "      <td>E</td>\n",
       "      <td>IGHG4</td>\n",
       "      <td>MERS-CoV</td>\n",
       "      <td>pubmed:33060197</td>\n",
       "    </tr>\n",
       "    <tr>\n",
       "      <th>4</th>\n",
       "      <td>E</td>\n",
       "      <td>WLS</td>\n",
       "      <td>MERS-CoV</td>\n",
       "      <td>pubmed:33060197</td>\n",
       "    </tr>\n",
       "  </tbody>\n",
       "</table>\n",
       "</div>"
      ],
      "text/plain": [
       "  Bait PreyGene     Virus        Pubmed_id\n",
       "0    E   SPTLC2  MERS-CoV  pubmed:33060197\n",
       "1    E   B4GAT1  MERS-CoV  pubmed:33060197\n",
       "2    E  ATP6AP2  MERS-CoV  pubmed:33060197\n",
       "3    E    IGHG4  MERS-CoV  pubmed:33060197\n",
       "4    E      WLS  MERS-CoV  pubmed:33060197"
      ]
     },
     "execution_count": 32,
     "metadata": {},
     "output_type": "execute_result"
    }
   ],
   "source": [
    "cov_h.head()"
   ]
  },
  {
   "cell_type": "markdown",
   "metadata": {},
   "source": [
    "## 4. All the VTGs"
   ]
  },
  {
   "cell_type": "code",
   "execution_count": 33,
   "metadata": {},
   "outputs": [],
   "source": [
    "cov_h4 = cov_h3[['PreyGene', 'Virus']]\n",
    "cov_h4.columns = ['Gene', 'Virus']\n",
    "cov_h4 = cov_h4.drop_duplicates()\n",
    "cov_h4['Baltimore'] = ['(+)ssRNA'] * cov_h4.shape[0]\n",
    "cov_h4['Family'] = ['Coronaviridae'] * cov_h4.shape[0]"
   ]
  },
  {
   "cell_type": "code",
   "execution_count": 34,
   "metadata": {},
   "outputs": [
    {
     "data": {
      "text/plain": [
       "(2759, 4)"
      ]
     },
     "execution_count": 34,
     "metadata": {},
     "output_type": "execute_result"
    }
   ],
   "source": [
    "cov_h4.shape"
   ]
  },
  {
   "cell_type": "code",
   "execution_count": 35,
   "metadata": {},
   "outputs": [],
   "source": [
    "vtgs = pd.concat([vtgs, cov_h4], axis = 0, ignore_index=True)\n",
    "vtgs = vtgs.drop_duplicates()"
   ]
  },
  {
   "cell_type": "code",
   "execution_count": 36,
   "metadata": {},
   "outputs": [
    {
     "data": {
      "text/html": [
       "<div>\n",
       "<style scoped>\n",
       "    .dataframe tbody tr th:only-of-type {\n",
       "        vertical-align: middle;\n",
       "    }\n",
       "\n",
       "    .dataframe tbody tr th {\n",
       "        vertical-align: top;\n",
       "    }\n",
       "\n",
       "    .dataframe thead th {\n",
       "        text-align: right;\n",
       "    }\n",
       "</style>\n",
       "<table border=\"1\" class=\"dataframe\">\n",
       "  <thead>\n",
       "    <tr style=\"text-align: right;\">\n",
       "      <th></th>\n",
       "      <th>Gene</th>\n",
       "      <th>Virus</th>\n",
       "      <th>Baltimore</th>\n",
       "      <th>Family</th>\n",
       "    </tr>\n",
       "  </thead>\n",
       "  <tbody>\n",
       "    <tr>\n",
       "      <th>0</th>\n",
       "      <td>A2M</td>\n",
       "      <td>Human cytomegalovirus</td>\n",
       "      <td>dsDNA</td>\n",
       "      <td>Herpesviridae</td>\n",
       "    </tr>\n",
       "    <tr>\n",
       "      <th>1</th>\n",
       "      <td>A2ML1</td>\n",
       "      <td>Human cytomegalovirus</td>\n",
       "      <td>dsDNA</td>\n",
       "      <td>Herpesviridae</td>\n",
       "    </tr>\n",
       "    <tr>\n",
       "      <th>2</th>\n",
       "      <td>ACAA1</td>\n",
       "      <td>Human cytomegalovirus</td>\n",
       "      <td>dsDNA</td>\n",
       "      <td>Herpesviridae</td>\n",
       "    </tr>\n",
       "    <tr>\n",
       "      <th>3</th>\n",
       "      <td>ACOX1</td>\n",
       "      <td>Human cytomegalovirus</td>\n",
       "      <td>dsDNA</td>\n",
       "      <td>Herpesviridae</td>\n",
       "    </tr>\n",
       "    <tr>\n",
       "      <th>4</th>\n",
       "      <td>ACP7</td>\n",
       "      <td>Human cytomegalovirus</td>\n",
       "      <td>dsDNA</td>\n",
       "      <td>Herpesviridae</td>\n",
       "    </tr>\n",
       "  </tbody>\n",
       "</table>\n",
       "</div>"
      ],
      "text/plain": [
       "    Gene                  Virus Baltimore         Family\n",
       "0    A2M  Human cytomegalovirus     dsDNA  Herpesviridae\n",
       "1  A2ML1  Human cytomegalovirus     dsDNA  Herpesviridae\n",
       "2  ACAA1  Human cytomegalovirus     dsDNA  Herpesviridae\n",
       "3  ACOX1  Human cytomegalovirus     dsDNA  Herpesviridae\n",
       "4   ACP7  Human cytomegalovirus     dsDNA  Herpesviridae"
      ]
     },
     "execution_count": 36,
     "metadata": {},
     "output_type": "execute_result"
    }
   ],
   "source": [
    "vtgs.head()"
   ]
  },
  {
   "cell_type": "code",
   "execution_count": 37,
   "metadata": {},
   "outputs": [
    {
     "data": {
      "text/plain": [
       "(23832, 4)"
      ]
     },
     "execution_count": 37,
     "metadata": {},
     "output_type": "execute_result"
    }
   ],
   "source": [
    "vtgs.shape"
   ]
  },
  {
   "cell_type": "markdown",
   "metadata": {},
   "source": [
    "## 5. Virally-targeted modules (no statistical test)"
   ]
  },
  {
   "cell_type": "code",
   "execution_count": 40,
   "metadata": {},
   "outputs": [],
   "source": [
    "cluster_genes = {}\n",
    "i = 1\n",
    "with open(r'../intermediate/batch_MCL_out/out.HUMPPI2022.I228') as f:\n",
    "    for row in f:\n",
    "        cols = row.strip().split('\\t')\n",
    "        if len(cols) > 2:\n",
    "            cluster_genes[i] = cols\n",
    "            i = i + 1\n",
    "\n",
    "def geneincluster(x):\n",
    "    for k in cluster_genes.keys():\n",
    "        if x in cluster_genes[k]:\n",
    "            return k"
   ]
  },
  {
   "cell_type": "code",
   "execution_count": 41,
   "metadata": {},
   "outputs": [
    {
     "data": {
      "text/plain": [
       "856"
      ]
     },
     "execution_count": 41,
     "metadata": {},
     "output_type": "execute_result"
    }
   ],
   "source": [
    "geneincluster('A2M')"
   ]
  },
  {
   "cell_type": "code",
   "execution_count": 42,
   "metadata": {},
   "outputs": [],
   "source": [
    "vtgs['Module'] = vtgs['Gene'].apply(geneincluster)\n",
    "vtgs = vtgs.where(vtgs.notnull(), 0)\n",
    "vtgs['Module'] = vtgs['Module'].apply(int)\n",
    "\n",
    "vtgs.to_csv(path_or_buf='../intermediate/virally-targeted_genes.txt', index = False, sep = '\\t')"
   ]
  },
  {
   "cell_type": "code",
   "execution_count": null,
   "metadata": {},
   "outputs": [],
   "source": []
  }
 ],
 "metadata": {
  "kernelspec": {
   "display_name": "Python 3",
   "language": "python",
   "name": "python3"
  },
  "language_info": {
   "codemirror_mode": {
    "name": "ipython",
    "version": 3
   },
   "file_extension": ".py",
   "mimetype": "text/x-python",
   "name": "python",
   "nbconvert_exporter": "python",
   "pygments_lexer": "ipython3",
   "version": "3.8.3"
  }
 },
 "nbformat": 4,
 "nbformat_minor": 4
}
